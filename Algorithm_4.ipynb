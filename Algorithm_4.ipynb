{
 "cells": [
  {
   "cell_type": "markdown",
   "id": "8e813af9",
   "metadata": {},
   "source": [
    "# Algorithm 4: Shops data restructure"
   ]
  },
  {
   "cell_type": "markdown",
   "id": "ca62c09c",
   "metadata": {},
   "source": [
    "In this algorithm, we would like to extract the product brand as a product feature variable, and restructure the 4 shops dataset."
   ]
  },
  {
   "cell_type": "code",
   "execution_count": 1,
   "id": "a7a1b72b",
   "metadata": {},
   "outputs": [
    {
     "name": "stdout",
     "output_type": "stream",
     "text": [
      "[]\n"
     ]
    }
   ],
   "source": [
    "# loading the original dataset\n",
    "\n",
    "import json\n",
    "    \n",
    "## read the json file\n",
    "f = open('C:\\\\\\\\Users\\\\\\\\mingh\\\\\\\\Desktop\\\\\\\\text\\\\\\\\Master\\\\\\\\Thesis\\\\\\\\Previous code\\\\\\\\APFAProject-master\\\\\\\\APFA_software\\\\\\\\data\\\\\\\\TVs-all-merged.json')\n",
    "data = json.load(f)\n",
    "\n",
    "## extract the product ID and convert it into a list\n",
    "product_ID = list(data.keys())\n",
    "\n",
    "import collections\n",
    "print([item for item, count in collections.Counter(product_ID).items() if count > 1])"
   ]
  },
  {
   "cell_type": "code",
   "execution_count": 2,
   "id": "d2295318",
   "metadata": {},
   "outputs": [],
   "source": [
    "# now we creat the default dictionary for each store\n",
    "from collections import defaultdict\n",
    "bestbuy = defaultdict(lambda:None)\n",
    "\n",
    "\n",
    "newegg = defaultdict(lambda:None)\n",
    "\n",
    "\n",
    "amazon = defaultdict(lambda:None)\n",
    "\n",
    "\n",
    "thenerds = defaultdict(lambda:None)\n"
   ]
  },
  {
   "cell_type": "code",
   "execution_count": 3,
   "id": "782283e4",
   "metadata": {},
   "outputs": [],
   "source": [
    "import json\n",
    "    \n",
    "## read the json file\n",
    "f = open('C:\\\\\\\\Users\\\\\\\\mingh\\\\\\\\Desktop\\\\\\\\text\\\\\\\\Master\\\\\\\\Thesis\\\\\\\\Python Code\\\\\\\\Algorithm 2\\\\\\\\shop_dict_A2.json')\n",
    "shop_dict = json.load(f)\n",
    "\n",
    "common_brand = []\n",
    "\n",
    "for shop in shop_dict.values():\n",
    "    for key in shop['product_detail']['featuresMap'].keys():\n",
    "        if 'Brand'in key:\n",
    "            for brand in shop['product_detail']['featuresMap'][key]['Raw Value']:\n",
    "                if brand in common_brand:\n",
    "                    pass\n",
    "                else: \n",
    "                    common_brand.append(brand)\n",
    "        else: pass"
   ]
  },
  {
   "cell_type": "code",
   "execution_count": 5,
   "id": "3ceee8f4",
   "metadata": {},
   "outputs": [],
   "source": [
    "def brand_selection(product,common_brand):\n",
    "    keys = list(product['featuresMap'].keys())\n",
    "    brand = ''\n",
    "    for i in keys:\n",
    "        if 'brand' in i:\n",
    "            brand = product['featuresMap'][i]\n",
    "        else: pass\n",
    "    \n",
    "    if brand == '':\n",
    "        for i in common_brand:\n",
    "            if i in product['title']:\n",
    "                brand = i\n",
    "            else: pass\n",
    "    \n",
    "    if brand != '':\n",
    "        return brand\n",
    "    else:\n",
    "        return 'not found'"
   ]
  },
  {
   "cell_type": "code",
   "execution_count": null,
   "id": "08823764",
   "metadata": {},
   "outputs": [],
   "source": [
    "brand_selection(data['29PFL4508/F7'][0],common_brand)"
   ]
  },
  {
   "cell_type": "code",
   "execution_count": 7,
   "id": "a34fa782",
   "metadata": {},
   "outputs": [],
   "source": [
    "# allocate the prodcut into the matched store\n",
    "\n",
    "product_count = 0\n",
    "for id in data.values():\n",
    "    for i in id:\n",
    "        if i['shop'] == 'bestbuy.com':\n",
    "            brand = brand_selection(i,common_brand)\n",
    "            bestbuy[i['modelID']] = {'Title':i['title'],'featuresMap':i['featuresMap'],'brand':brand,'model_ID':i['modelID']}\n",
    "            product_count +=1\n",
    "        elif i['shop'] == 'newegg.com':\n",
    "            brand = brand_selection(i,common_brand)\n",
    "            newegg[i['modelID']] = {'Title':i['title'],'featuresMap':i['featuresMap'],'brand':brand,'model_ID':i['modelID']}\n",
    "            product_count +=1\n",
    "        elif i['shop'] == 'amazon.com':\n",
    "            brand = brand_selection(i,common_brand)\n",
    "            amazon[i['modelID']] = {'Title':i['title'],'featuresMap':i['featuresMap'],'brand':brand,'model_ID':i['modelID']}\n",
    "            product_count +=1\n",
    "        elif i['shop'] == 'thenerds.net':\n",
    "            brand = brand_selection(i,common_brand)\n",
    "            thenerds[i['modelID']] = {'Title':i['title'],'featuresMap':i['featuresMap'],'brand':brand,'model_ID':i['modelID']}\n",
    "            product_count +=1\n",
    "        else:\n",
    "            print('1')\n",
    "    \n"
   ]
  },
  {
   "cell_type": "code",
   "execution_count": 8,
   "id": "623d6e99",
   "metadata": {},
   "outputs": [],
   "source": [
    "import json\n",
    "\n",
    "with open('bestbuy.json', 'w') as f:\n",
    "    json.dump(bestbuy, f)\n",
    "\n",
    "with open('newegg.json', 'w') as f:\n",
    "    json.dump(newegg, f)\n",
    "\n",
    "with open('amazon.json', 'w') as f:\n",
    "    json.dump(amazon, f)\n",
    "\n",
    "with open('thenerds.json', 'w') as f:\n",
    "    json.dump(thenerds, f)\n"
   ]
  }
 ],
 "metadata": {
  "kernelspec": {
   "display_name": "Python 3 (ipykernel)",
   "language": "python",
   "name": "python3"
  },
  "language_info": {
   "codemirror_mode": {
    "name": "ipython",
    "version": 3
   },
   "file_extension": ".py",
   "mimetype": "text/x-python",
   "name": "python",
   "nbconvert_exporter": "python",
   "pygments_lexer": "ipython3",
   "version": "3.9.7"
  }
 },
 "nbformat": 4,
 "nbformat_minor": 5
}
