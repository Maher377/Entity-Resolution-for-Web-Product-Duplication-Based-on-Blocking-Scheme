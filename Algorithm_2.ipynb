{
 "cells": [
  {
   "cell_type": "markdown",
   "id": "dc0f3763",
   "metadata": {},
   "source": [
    "# Algorithm2: Shop dictionary processing"
   ]
  },
  {
   "cell_type": "markdown",
   "id": "24e533cf",
   "metadata": {},
   "source": [
    "In algorithm 2, we propose the code to process the shop dictionary, define the data type of the key, generate the string values and double values and key diversity , key dimension, and std."
   ]
  },
  {
   "cell_type": "code",
   "execution_count": null,
   "id": "fcd5844b",
   "metadata": {},
   "outputs": [],
   "source": [
    "# First, convert the json into python dictionary\n",
    "import json\n",
    "    \n",
    "## read the json file\n",
    "f = open('C:\\\\\\\\Users\\\\\\\\mingh\\\\\\\\Desktop\\\\\\\\text\\\\\\\\Master\\\\\\\\Thesis\\\\\\\\Python Code\\\\\\\\Algorithm 1\\\\\\\\shop_dict.json')\n",
    "data = json.load(f)"
   ]
  },
  {
   "cell_type": "code",
   "execution_count": null,
   "id": "418b1597",
   "metadata": {},
   "outputs": [],
   "source": [
    "# here we define the common unit in the product festures\n",
    "common_unit = ['inches','\"','lbs','lb','kg','cd/m','Nit','$','pounds','mm','ms','W','V']"
   ]
  },
  {
   "cell_type": "markdown",
   "id": "74bef7f3",
   "metadata": {},
   "source": [
    "Here we defind the function to gethering the dimension of double type keys."
   ]
  },
  {
   "cell_type": "code",
   "execution_count": 3,
   "id": "93c5a7d6",
   "metadata": {},
   "outputs": [],
   "source": [
    "# define the frequency function to calculate the data dimension\n",
    "def most_frequent(List):\n",
    "    return max(set(List), key = List.count)"
   ]
  },
  {
   "cell_type": "markdown",
   "id": "62ee3fd3",
   "metadata": {},
   "source": [
    "In the folloing block, we detect the key type, the string and double values, the key dimension and diversity."
   ]
  },
  {
   "cell_type": "code",
   "execution_count": 5,
   "id": "325aca09",
   "metadata": {},
   "outputs": [],
   "source": [
    "import re\n",
    "\n",
    "# figure out the key type is str or double\n",
    "for shop in data.values():\n",
    "    for key in shop['product_detail']['featuresMap'].keys():\n",
    "        valuetype = {'string':0,'double':0}\n",
    "        doubleValues = []\n",
    "        dimension = []\n",
    "        for i in range(len(shop['product_detail']['featuresMap'][key])):\n",
    "            # select each value, extract its digit element\n",
    "            value = shop['product_detail']['featuresMap'][key][i]\n",
    "            numbers = [float(s) for s in re.findall(r'\\d+\\.\\d+|\\d+', value)]\n",
    "            doubleValues.append(numbers)\n",
    "            dimension.append(len(numbers))\n",
    "            \n",
    "            # define the lenth of value\n",
    "            value_len = len(value)\n",
    "            \n",
    "            # define the length of digit element\n",
    "            num_len = 0\n",
    "            for i in range(len(numbers)):\n",
    "                num_len += len(str(numbers[i]))\n",
    "                \n",
    "            # define the data type of each element\n",
    "            if num_len > value_len*0.5:\n",
    "                valuetype['double'] += 1 \n",
    "            elif any(unit in value for unit in common_unit):\n",
    "                valuetype['double'] += 1\n",
    "            else: valuetype['string'] += 1 \n",
    "        \n",
    "        # now compare the count of valuetype\n",
    "        if valuetype['double'] >= valuetype['string']:\n",
    "            keytype = 'double'\n",
    "        else :\n",
    "            keytype = 'string'\n",
    "            \n",
    "        # prepare the unique value list\n",
    "        rawValues = list(shop['product_detail']['featuresMap'][key])\n",
    "        if keytype == 'string':\n",
    "            stringValues = list(shop['product_detail']['featuresMap'][key])\n",
    "            doubleValues = 'None'\n",
    "            dimension = 'None'\n",
    "        else:\n",
    "            stringValues = 'None'\n",
    "            dimension = most_frequent(dimension)\n",
    "        \n",
    "        diversity = len(shop['product_detail']['featuresMap'][key])\n",
    "            \n",
    "        # reform the key matrix    \n",
    "        shop['product_detail']['featuresMap'][key] = dict({'keytype':keytype,'Raw Value':rawValues,'String Values':stringValues,'Double Values':doubleValues,'Dimension':dimension,'Diversity':diversity})\n",
    "    "
   ]
  },
  {
   "cell_type": "code",
   "execution_count": 6,
   "id": "8f727dd0",
   "metadata": {},
   "outputs": [],
   "source": [
    "# remove the block double data \n",
    "\n",
    "for shop in data.values():\n",
    "    for key in shop['product_detail']['featuresMap'].values():\n",
    "        if key['keytype'] == 'double':\n",
    "            key['Double Values'] = [x for x in key['Double Values'] if x != []]\n",
    "        else: pass\n",
    "                "
   ]
  },
  {
   "cell_type": "markdown",
   "id": "a94fdee9",
   "metadata": {},
   "source": [
    "Now we gethering the Std of the double type keys."
   ]
  },
  {
   "cell_type": "code",
   "execution_count": 8,
   "id": "ed50aa91",
   "metadata": {},
   "outputs": [],
   "source": [
    "# get std for all double key\n",
    "import numpy as np\n",
    "\n",
    "for shop in data.values():\n",
    "    for key in shop['product_detail']['featuresMap'].keys():\n",
    "        # if not double value the pass\n",
    "        if shop['product_detail']['featuresMap'][key]['keytype'] == 'string':\n",
    "            pass\n",
    "        # select all the double value key\n",
    "        else:\n",
    "            dimension = shop['product_detail']['featuresMap'][key]['Dimension']\n",
    "            std = []\n",
    "            \n",
    "            # select all the product value only in the same dimension with the key\n",
    "            for numbers in shop['product_detail']['featuresMap'][key]['Double Values']:\n",
    "                if len(numbers) == dimension:\n",
    "                    std.append(numbers)\n",
    "                else: pass\n",
    "            \n",
    "            if std == []:\n",
    "                std = ['None']\n",
    "            if len(std[0]) > 1:\n",
    "                std_in = []\n",
    "                position = 0\n",
    "                while position < dimension:\n",
    "                    #creat the parameter\n",
    "                    number_in = []\n",
    "                    \n",
    "                    for i in std:\n",
    "                        number_in.append(i[position])\n",
    "                    \n",
    "                    std_in.append(np.std(number_in))\n",
    "                    position += 1\n",
    "                    \n",
    "                Standard_Deviation = list(std_in)\n",
    "            elif std[0] == 'None':\n",
    "                Standard_Deviation = 'None'\n",
    "                    \n",
    "            else: \n",
    "                Standard_Deviation = np.std(std)\n",
    "            \n",
    "            shop['product_detail']['featuresMap'][key]['std'] = Standard_Deviation"
   ]
  },
  {
   "cell_type": "markdown",
   "id": "55ec17e8",
   "metadata": {},
   "source": [
    "In the end, we clean and export the data."
   ]
  },
  {
   "cell_type": "code",
   "execution_count": 9,
   "id": "d1ea6c6b",
   "metadata": {},
   "outputs": [],
   "source": [
    "output = {}\n",
    "for shop in data.keys():\n",
    "    output[shop] = data[shop]['product_detail']['featuresMap']"
   ]
  },
  {
   "cell_type": "code",
   "execution_count": 10,
   "id": "bf7b35eb",
   "metadata": {},
   "outputs": [],
   "source": [
    "import json\n",
    "with open('shop_dict_A2.json', 'w') as f:\n",
    "    json.dump(output, f)"
   ]
  }
 ],
 "metadata": {
  "kernelspec": {
   "display_name": "Python 3 (ipykernel)",
   "language": "python",
   "name": "python3"
  },
  "language_info": {
   "codemirror_mode": {
    "name": "ipython",
    "version": 3
   },
   "file_extension": ".py",
   "mimetype": "text/x-python",
   "name": "python",
   "nbconvert_exporter": "python",
   "pygments_lexer": "ipython3",
   "version": "3.9.7"
  }
 },
 "nbformat": 4,
 "nbformat_minor": 5
}
