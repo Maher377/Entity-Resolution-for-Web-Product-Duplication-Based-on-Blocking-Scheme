{
 "cells": [
  {
   "cell_type": "markdown",
   "id": "8fa24a7f",
   "metadata": {},
   "source": [
    "# Algorithm 3: Forming the Aligned key set"
   ]
  },
  {
   "cell_type": "markdown",
   "id": "71ffd671",
   "metadata": {},
   "source": [
    "In algorithm 3, we proposed a program to calculate the key similarity and form the aligned key set."
   ]
  },
  {
   "cell_type": "code",
   "execution_count": null,
   "id": "3642cd79",
   "metadata": {},
   "outputs": [],
   "source": [
    "# First, convert the json into python dictionary\n",
    "import json\n",
    "    \n",
    "## read the json file\n",
    "f = open('C:\\\\\\\\Users\\\\\\\\mingh\\\\\\\\Desktop\\\\\\\\text\\\\\\\\Master\\\\\\\\Thesis\\\\\\\\Python Code\\\\\\\\Algorithm 2\\\\\\\\shop_dict_A2.json')\n",
    "data = json.load(f)"
   ]
  },
  {
   "cell_type": "markdown",
   "id": "0aeb56ee",
   "metadata": {},
   "source": [
    "In the following section, we define all the functions that we used to calculate the key similarity."
   ]
  },
  {
   "cell_type": "code",
   "execution_count": 2,
   "id": "ae15e504",
   "metadata": {},
   "outputs": [],
   "source": [
    "# datatype score\n",
    "\n",
    "def datatype_Score(key1,key2):\n",
    "    if key1['keytype'] != key2['keytype']:\n",
    "        pairDatatype = 'unmatched'\n",
    "        return pairDatatype\n",
    "    else:\n",
    "        pairDatatype = key1['keytype'] \n",
    "        return pairDatatype"
   ]
  },
  {
   "cell_type": "code",
   "execution_count": 3,
   "id": "2e3ae0cf",
   "metadata": {},
   "outputs": [],
   "source": [
    "# diversity score\n",
    "## punish very small diversity \n",
    "def div_Score(key1,key2):\n",
    "    if key1['Diversity'] == 1 or key2['Diversity'] == 1:\n",
    "        divScore = -1 \n",
    "        return divScore\n",
    "    else:\n",
    "        divScore = 0\n",
    "        return divScore"
   ]
  },
  {
   "cell_type": "code",
   "execution_count": 4,
   "id": "db7fdb01",
   "metadata": {},
   "outputs": [],
   "source": [
    "# value similarity --- string (Qgram)\n",
    "\n",
    "\n",
    "from nltk.metrics.distance import jaccard_distance\n",
    "from nltk.util import ngrams\n",
    "from nltk.metrics.distance  import edit_distance\n",
    "\n",
    "def qgram_similarity(string1,string2,q=3):\n",
    "    similarity = 1-jaccard_distance(set(ngrams(string1, q)), set(ngrams(string2, q)))\n",
    "    return(similarity)"
   ]
  },
  {
   "cell_type": "code",
   "execution_count": 5,
   "id": "929b9261",
   "metadata": {},
   "outputs": [],
   "source": [
    "def string_score(key1,key2,q):   \n",
    "    string_1 = '_'.join(sorted(set(key1['String Values'])))\n",
    "    string_2 = '_'.join(sorted(set(key2['String Values'])))\n",
    "    \n",
    "    if len(string_1) > q and len(string_2) >q :\n",
    "        stringScore = qgram_similarity(string_1,string_2,q)\n",
    "        return(stringScore)\n",
    "    else:\n",
    "        stringScore = qgram_similarity(string_1,string_2,1)\n",
    "        return(stringScore)"
   ]
  },
  {
   "cell_type": "code",
   "execution_count": 6,
   "id": "1c58b0ab",
   "metadata": {},
   "outputs": [],
   "source": [
    "# value similarity --- double\n",
    "\n",
    "from scipy import stats\n",
    "\n",
    "def double_similarity(double_key1,double_key2,key1_Dimension,key2_Dimension):\n",
    "    if key1_Dimension == key2_Dimension:\n",
    "    #dimension are same\n",
    "        if key1_Dimension > 1:\n",
    "            P_similarity = []\n",
    "            # prepare the dataset only contains correct dimensions\n",
    "            value_key1 = []\n",
    "            for i in double_key1:\n",
    "                if len(i) == key1_Dimension:\n",
    "                    value_key1.append(i)\n",
    "                else: pass\n",
    "            value_key2 = []\n",
    "            for i in double_key2:\n",
    "                if len(i) == key1_Dimension:\n",
    "                    value_key2.append(i)\n",
    "                else: pass \n",
    "                \n",
    "            position = 0\n",
    "            while position < key1_Dimension:\n",
    "                #creat the parameter\n",
    "                global value_in_key1\n",
    "                global value_in_key2\n",
    "                value_in_key1 = []\n",
    "                value_in_key2 = []\n",
    "                for i in double_key1:\n",
    "                    if len(i) == key1_Dimension:\n",
    "                        value_in_key1.append(i[position])\n",
    "                    else: pass\n",
    "                for i in double_key2:\n",
    "                    if len(i) == key2_Dimension:\n",
    "                        value_in_key2.append(i[position])\n",
    "                    else: pass\n",
    "                    \n",
    "                t_value,p_value = stats.ttest_ind(value_in_key1,value_in_key2)\n",
    "                    \n",
    "                P_similarity.append(p_value)\n",
    "                position += 1\n",
    "            \n",
    "            double_Score = sum(P_similarity)/len(P_similarity)\n",
    "\n",
    "            return(double_Score)\n",
    "        elif key1_Dimension == 1:\n",
    "            t_value,p_value = stats.ttest_ind(value_in_key1,value_in_key2)\n",
    "            return(p_value)\n",
    "        else: return(0)\n",
    "    \n",
    "    else:      \n",
    "    #dimension are different\n",
    "        return(0) \n"
   ]
  },
  {
   "cell_type": "code",
   "execution_count": 7,
   "id": "e0dfcfe4",
   "metadata": {},
   "outputs": [],
   "source": [
    "# is string\n",
    "\n",
    "def is_string(key):\n",
    "    if key['keytype'] == 'double':\n",
    "        return(0)\n",
    "    else: return(1)"
   ]
  },
  {
   "cell_type": "code",
   "execution_count": 8,
   "id": "2ef45e49",
   "metadata": {},
   "outputs": [],
   "source": [
    "# final score calculation\n",
    "def final_score(nameScore,divScore,doubleScore,stringScore,isString):\n",
    "    w_name = 0.7\n",
    "    w_div = 0.05\n",
    "    w_double = 0.1\n",
    "    w_string = 0.1\n",
    "    w_is_string = 0.05\n",
    "    \n",
    "    final_score = nameScore*w_name + divScore*w_div + doubleScore*w_double + stringScore*w_string + isString*w_is_string\n",
    "    \n",
    "    return(final_score)\n",
    "    # how to weight agerage all the index?"
   ]
  },
  {
   "cell_type": "markdown",
   "id": "e5726731",
   "metadata": {},
   "source": [
    "Now we set the loops to compare the key similarity."
   ]
  },
  {
   "cell_type": "code",
   "execution_count": 15,
   "id": "3b7e1e62",
   "metadata": {},
   "outputs": [],
   "source": [
    "# record the matched keys \n",
    "from collections import defaultdict\n",
    "\n",
    "\n",
    "## define the dict filter\n",
    "dict_filter = lambda x, y: dict([ (i,x[i]) for i in x if i in set(y) ])\n",
    "matched_key = defaultdict(lambda: 'None')\n",
    "\n",
    "for shop in data.keys():\n",
    "    feature_Map = data[shop]\n",
    "    rest_shops = list(data.keys())\n",
    "    rest_shops.remove(shop)\n",
    "    matched_key_shop = defaultdict(lambda:{rest_shops[0]:\"None\",rest_shops[1]:\"None\",rest_shops[2]:\"None\"})\n",
    "    for rest_shop in rest_shops:\n",
    "        festure_Map_other = data[rest_shop]\n",
    "        \n",
    "        # start comparing keys\n",
    "        for key1 in feature_Map.keys():\n",
    "            for key2 in festure_Map_other.keys():\n",
    "                datatypeScore = datatype_Score(feature_Map[key1],festure_Map_other[key2])\n",
    "                if datatypeScore == 'unmatched':\n",
    "                    finalScore = -1\n",
    "                else:\n",
    "                    divScore = div_Score(feature_Map[key1],festure_Map_other[key2])\n",
    "                    nameScore = qgram_similarity(key1,key2,3)\n",
    "                    if datatypeScore == 'double':\n",
    "                        doubleScore = double_similarity(feature_Map[key1]['Double Values'],festure_Map_other[key2]['Double Values'],\n",
    "                                                        feature_Map[key1]['Dimension'],feature_Map[key2]['Dimension'])\n",
    "                        stringScore = 0\n",
    "                    elif datatypeScore == 'string':\n",
    "                        stringScore = string_score(feature_Map[key1],festure_Map_other[key2],3)\n",
    "                        doubleScore = 0\n",
    "                        \n",
    "                    isStringScore = is_string(feature_Map[key1])\n",
    "\n",
    "                    try:\n",
    "                        finalScore = final_score(nameScore,divScore,doubleScore,stringScore,isStringScore)\n",
    "                    except:\n",
    "                        finalScore = 0\n",
    "                        print(key1,key2)\n",
    "                \n",
    "                \n",
    "                if matched_key_shop[key1][rest_shop] == 'None':\n",
    "                    matched_key_shop[key1][rest_shop] = {'key':key2,'score':finalScore}\n",
    "                    \n",
    "                elif matched_key_shop[key1][rest_shop]['score']<finalScore:\n",
    "                    matched_key_shop[key1][rest_shop]['key'] = key2\n",
    "                    matched_key_shop[key1][rest_shop]['score'] = finalScore\n",
    "                    matched_key_shop[key1][rest_shop]['datatype'] = feature_Map[key1]['keytype']\n",
    "                    \n",
    "                elif matched_key_shop[key1][rest_shop]['score']<finalScore:\n",
    "                    pass\n",
    "                \n",
    "    matched_key[shop] = matched_key_shop\n",
    "\n"
   ]
  },
  {
   "cell_type": "markdown",
   "id": "fdb7d71e",
   "metadata": {},
   "source": [
    "In the end, we export the aligned key set."
   ]
  },
  {
   "cell_type": "code",
   "execution_count": 17,
   "id": "8eb9026d",
   "metadata": {},
   "outputs": [],
   "source": [
    "import json\n",
    "with open('matched_mape.json', 'w') as f:\n",
    "    json.dump(matched_key, f)"
   ]
  }
 ],
 "metadata": {
  "kernelspec": {
   "display_name": "Python 3 (ipykernel)",
   "language": "python",
   "name": "python3"
  },
  "language_info": {
   "codemirror_mode": {
    "name": "ipython",
    "version": 3
   },
   "file_extension": ".py",
   "mimetype": "text/x-python",
   "name": "python",
   "nbconvert_exporter": "python",
   "pygments_lexer": "ipython3",
   "version": "3.9.7"
  }
 },
 "nbformat": 4,
 "nbformat_minor": 5
}
